{
 "cells": [
  {
   "cell_type": "markdown",
   "id": "3d9e0312",
   "metadata": {},
   "source": [
    "# 초기 세팅"
   ]
  },
  {
   "cell_type": "code",
   "execution_count": null,
   "id": "1a8132c5",
   "metadata": {},
   "outputs": [],
   "source": [
    "import pandas as pd\n",
    "import seaborn as sns\n",
    "import matplotlib.pyplot as plt\n",
    "import koreanize_matplotlib\n",
    "import warnings\n",
    "\n",
    "warnings.simplefilter('ignore')\n",
    "%config InlineBackend.figure_format = 'retina'"
   ]
  },
  {
   "cell_type": "markdown",
   "id": "40f7ae16",
   "metadata": {},
   "source": [
    "# 데이터 업로드"
   ]
  },
  {
   "cell_type": "code",
   "execution_count": null,
   "id": "5d4edd85",
   "metadata": {},
   "outputs": [],
   "source": [
    "daily_visit_count = pd.read_csv('daily_visit_count.csv')\n",
    "daily_visit_count"
   ]
  },
  {
   "cell_type": "code",
   "execution_count": null,
   "id": "fef991ec",
   "metadata": {},
   "outputs": [],
   "source": [
    "all_time_df = pd.read_csv('all_time_df.csv')\n",
    "all_time_df"
   ]
  },
  {
   "cell_type": "code",
   "execution_count": null,
   "id": "5e1611d3",
   "metadata": {},
   "outputs": [],
   "source": [
    "monthly_entry = pd.read_csv('monthly_entry.csv')\n",
    "monthly_entry"
   ]
  },
  {
   "cell_type": "code",
   "execution_count": null,
   "id": "99a84d44",
   "metadata": {},
   "outputs": [],
   "source": [
    "gender_age_456 = pd.read_csv('gender_age_456.csv')\n",
    "gender_age_456"
   ]
  },
  {
   "cell_type": "markdown",
   "id": "6cb9775a",
   "metadata": {},
   "source": [
    "# 무슨 요일에 많이 방문할까?\n",
    "- 금요일에 압도적으로 많은 수가 방문한다 => 블로그 글 포스팅은 금요일에 올리는게 좋겠다\n",
    "- 그 외의 요일은 화요일이나 토요일\n",
    "---\n",
    "25.06.13 금요일 압도적으로 방문이 많았던 특이점 발견 => 이 날 제외하고 다시 그래프 시각화\n",
    "- 주 1회 업로드 요일 · 시간 : 토요일 16:30\n",
    "- 주 2회 업로드 요일 · 시간 : 화요일 16:30, 토요일 17:00"
   ]
  },
  {
   "cell_type": "code",
   "execution_count": null,
   "id": "f7ad42e5",
   "metadata": {},
   "outputs": [],
   "source": [
    "# 요일 정렬 순서 지정\n",
    "weekday_order = ['월', '화', '수', '목', '금', '토', '일']\n",
    "\n",
    "# 요일별 방문횟수 합산 + 요일 순서대로 정렬\n",
    "weekday_sum = daily_visit_count.groupby('요일')['방문횟수'].sum().reindex(weekday_order)\n",
    "\n",
    "# 선 그래프 시각화\n",
    "plt.figure(figsize=(8, 5))\n",
    "plt.plot(weekday_sum.index, weekday_sum.values, marker='o', linestyle='-', color='teal')\n",
    "plt.title('요일별 방문자 수', fontsize=14)\n",
    "plt.xlabel('요일')\n",
    "plt.ylabel('방문자 수')\n",
    "plt.grid(True)\n",
    "plt.tight_layout()\n",
    "plt.show()"
   ]
  },
  {
   "cell_type": "markdown",
   "id": "693a891d",
   "metadata": {},
   "source": [
    "### 특정일 제외 후 시각화"
   ]
  },
  {
   "cell_type": "code",
   "execution_count": null,
   "id": "342fec7d",
   "metadata": {},
   "outputs": [],
   "source": [
    "# 날짜 문자열을 datetime으로 변환\n",
    "daily_visit_count['날짜'] = pd.to_datetime(daily_visit_count['날짜'])\n",
    "\n",
    "# 2025-06-13 데이터 제거\n",
    "df_filtered = daily_visit_count[daily_visit_count['날짜'] != '2025-06-13']\n",
    "\n",
    "# 요일 정렬 순서\n",
    "weekday_order = ['월', '화', '수', '목', '금', '토', '일']\n",
    "\n",
    "# 요일별 방문자 수 합계 (이상치 제거 후)\n",
    "weekday_sum = df_filtered.groupby('요일')['방문횟수'].sum().reindex(weekday_order)\n",
    "\n",
    "# 그래프 시각화\n",
    "plt.figure(figsize=(8, 5))\n",
    "plt.plot(weekday_sum.index, weekday_sum.values, marker='o', linestyle='-', color='darkorange')\n",
    "plt.title('요일별 방문자 수', fontsize=14)\n",
    "plt.xlabel('요일')\n",
    "plt.ylabel('방문자 수')\n",
    "plt.grid(True)\n",
    "plt.tight_layout()\n",
    "plt.show()"
   ]
  },
  {
   "cell_type": "markdown",
   "id": "f0e7ac76",
   "metadata": {},
   "source": [
    "# 무슨 시간대에 많이 방문할까?\n",
    "- 16, 17, 18시 (저녁 시간대)"
   ]
  },
  {
   "cell_type": "code",
   "execution_count": null,
   "id": "50e15807",
   "metadata": {},
   "outputs": [],
   "source": [
    "# 날짜를 datetime 형식으로 변환\n",
    "all_time_df['날짜'] = pd.to_datetime(all_time_df['날짜'])\n",
    "\n",
    "# 2025-06-13 제외\n",
    "filtered_df = all_time_df[all_time_df['날짜'] != '2025-06-13']\n",
    "\n",
    "# 시간대별 조회수 합산\n",
    "hourly_views = filtered_df.groupby('시간대')['시간대 조회수'].sum()\n",
    "\n",
    "plt.figure(figsize=(10, 5))\n",
    "plt.plot(hourly_views.index, hourly_views.values, marker='o', color='slateblue')\n",
    "plt.title('시간대별 조회수', fontsize=14)\n",
    "plt.xlabel('시간대 (0~23시)')\n",
    "plt.ylabel('총 조회수')\n",
    "plt.xticks(range(0, 24))  # x축 눈금 0~23\n",
    "plt.grid(True)\n",
    "plt.tight_layout()\n",
    "plt.show()"
   ]
  },
  {
   "cell_type": "code",
   "execution_count": null,
   "id": "a8ae5961",
   "metadata": {},
   "outputs": [],
   "source": [
    "# filtered_df 데이터 프레임을 CSV 파일로 저장\n",
    "filtered_df.to_csv('all_time.csv', index=False)"
   ]
  },
  {
   "cell_type": "markdown",
   "id": "2b09ef9a",
   "metadata": {},
   "source": [
    "# 어느 경로로 유입이 될까?\n",
    "- 월별 상위 3개 유입 경로가 '모바일'"
   ]
  },
  {
   "cell_type": "code",
   "execution_count": null,
   "id": "2403828e",
   "metadata": {},
   "outputs": [],
   "source": [
    "# 월별 유입경로별 비율 합계\n",
    "top_routes = (\n",
    "    monthly_entry.groupby(['월', '유입경로'])['비율']\n",
    "    .sum()\n",
    "    .reset_index()\n",
    ")\n",
    "\n",
    "# 각 달별 상위 10개 추출\n",
    "top10_each_month = (\n",
    "    top_routes.sort_values(['월', '비율'], ascending=[True, False])\n",
    "    .groupby('월')\n",
    "    .head(10)\n",
    ")\n",
    "\n",
    "# 유입경로를 내림차순으로 정렬된 카테고리로 변환\n",
    "top10_each_month['유입경로'] = top10_each_month.groupby('월')['유입경로'].transform(\n",
    "    lambda x: pd.Categorical(x, categories=x.tolist()[::-1], ordered=True)\n",
    ")\n",
    "\n",
    "g = sns.catplot(\n",
    "    data=top10_each_month,\n",
    "    x='유입경로',\n",
    "    y='비율',\n",
    "    col='월',\n",
    "    kind='bar',\n",
    "    height=5,\n",
    "    aspect=1.2,\n",
    "    palette='pink'\n",
    ")\n",
    "\n",
    "# 막대 위 수치 추가\n",
    "for ax in g.axes.flat:\n",
    "    for bar in ax.patches:\n",
    "        height = bar.get_height()\n",
    "        ax.text(\n",
    "            bar.get_x() + bar.get_width()/2,\n",
    "            height + 0.8,\n",
    "            f'{height:.2f}%',\n",
    "            ha='center',\n",
    "            va='bottom',\n",
    "            fontsize=9\n",
    "        )\n",
    "\n",
    "g.set_titles(\"{col_name}월\")\n",
    "g.set_axis_labels(\"유입경로\", \"비율\")\n",
    "g.set_xticklabels(rotation=90)\n",
    "plt.tight_layout()\n",
    "plt.show()"
   ]
  },
  {
   "cell_type": "markdown",
   "id": "119f8913",
   "metadata": {},
   "source": [
    "# 어느 성별이 많이 방문을 할까?\n",
    "- 맛집 블로그는 여자 방문 비율이 높다"
   ]
  },
  {
   "cell_type": "code",
   "execution_count": null,
   "id": "40035172",
   "metadata": {},
   "outputs": [],
   "source": [
    "# 성별 전체 합계 추출 (연령별 == '전체' 조건)\n",
    "gender_total = gender_age_456[gender_age_456['연령별'] == '전체']\n",
    "gender_total_grouped = gender_total.groupby('성별')['조회수'].sum().reset_index()\n",
    "\n",
    "labels = [f\"{row['성별']} ({row['조회수']:,})\" for _, row in gender_total_grouped.iterrows()]\n",
    "sizes = gender_total_grouped['조회수']\n",
    "colors = ['#4B80CF', '#EF6C91']\n",
    "\n",
    "plt.figure(figsize=(6, 6))\n",
    "plt.pie(sizes, labels=labels, autopct='%1.2f %%', colors=colors, textprops={'fontsize': 12})\n",
    "plt.title('전체 성별별 조회수 및 비율', fontsize=14)\n",
    "plt.tight_layout()\n",
    "plt.show()"
   ]
  },
  {
   "cell_type": "code",
   "execution_count": null,
   "id": "c200db13",
   "metadata": {},
   "outputs": [],
   "source": [
    "# 연령별 == '전체' 데이터만 필터링\n",
    "df_month_gender = gender_age_456[gender_age_456['연령별'] == '전체']\n",
    "\n",
    "plt.figure(figsize=(10, 6))\n",
    "barplot = sns.barplot(\n",
    "    data=df_month_gender,\n",
    "    x='월', y='조회수', hue='성별',\n",
    "    palette={'남': '#4B80CF', '여': '#EF6C91'}\n",
    ")\n",
    "\n",
    "plt.title(\"월 / 성별 조회수 및 비율\", fontsize=14)\n",
    "plt.ylabel(\"조회수\")\n",
    "plt.tight_layout()\n",
    "plt.show()"
   ]
  },
  {
   "cell_type": "markdown",
   "id": "5e70a5cb",
   "metadata": {},
   "source": [
    "# 나이대는 어떻게 분포 되어 있을까?\n",
    "- 대체로 20대 중반 ~ 30대 중반 여성 분들이 많이 방문"
   ]
  },
  {
   "cell_type": "code",
   "execution_count": null,
   "id": "463d45d4",
   "metadata": {},
   "outputs": [],
   "source": [
    "# 전체 월 합산 & 성별/연령별만 남기기\n",
    "df_age_gender = gender_age_456[\n",
    "    (gender_age_456['연령별'] != '전체') & (gender_age_456['성별'].isin(['남', '여']))\n",
    "].copy()\n",
    "\n",
    "# 월별 합치기 → 연령/성별 기준으로 조회수, 비율 합산\n",
    "df_age_gender = df_age_gender.groupby(['연령별', '성별'], as_index=False)[['조회수', '비율(%)']].sum()\n",
    "\n",
    "# 연령대 순서 지정\n",
    "age_order = ['0-12', '13-18', '19-24', '25-29', '30-34', '35-39',\n",
    "             '40-44', '45-49', '50-54', '55-59', '60~']\n",
    "df_age_gender['연령별'] = pd.Categorical(df_age_gender['연령별'], categories=age_order, ordered=True)\n",
    "df_age_gender = df_age_gender.sort_values('연령별')\n",
    "\n",
    "plt.figure(figsize=(12, 6))\n",
    "barplot = sns.barplot(\n",
    "    data=df_age_gender,\n",
    "    x='연령별', y='조회수', hue='성별',\n",
    "    palette={'남': '#1B20FF', '여': '#CB0C01'}\n",
    ")\n",
    "\n",
    "\n",
    "plt.title(\"성별 / 연령별 조회수 및 비율\", fontsize=14)\n",
    "plt.ylabel(\"조회수\")\n",
    "plt.xlabel(\"연령별\")\n",
    "plt.legend(title=\"성별\")\n",
    "plt.tight_layout()\n",
    "plt.show()"
   ]
  },
  {
   "cell_type": "code",
   "execution_count": null,
   "id": "de8163c0",
   "metadata": {},
   "outputs": [],
   "source": []
  }
 ],
 "metadata": {
  "kernelspec": {
   "display_name": "codeit_env",
   "language": "python",
   "name": "python3"
  },
  "language_info": {
   "codemirror_mode": {
    "name": "ipython",
    "version": 3
   },
   "file_extension": ".py",
   "mimetype": "text/x-python",
   "name": "python",
   "nbconvert_exporter": "python",
   "pygments_lexer": "ipython3",
   "version": "3.12.9"
  }
 },
 "nbformat": 4,
 "nbformat_minor": 5
}
